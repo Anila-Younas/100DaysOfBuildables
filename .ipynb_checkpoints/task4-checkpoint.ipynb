{
 "cells": [
  {
   "cell_type": "code",
   "execution_count": 5,
   "id": "3bd78f6b-3e3f-4cf3-922c-73f0a8765ac3",
   "metadata": {},
   "outputs": [],
   "source": [
    "import math\n",
    "from collections import Counter\n",
    "\n",
    "# 1. Mean\n",
    "def mean(numbers):\n",
    "    return sum(numbers) / len(numbers)\n",
    "\n",
    "# 2. Median\n",
    "def median(numbers):\n",
    "    nums = sorted(numbers)\n",
    "    n = len(nums)\n",
    "    mid = n // 2\n",
    "    if n % 2 == 0:\n",
    "        return (nums[mid - 1] + nums[mid]) / 2\n",
    "    else:\n",
    "        return nums[mid]\n",
    "\n",
    "# 3. Mode\n",
    "def mode(numbers):\n",
    "    count = Counter(numbers)\n",
    "    max_freq = max(count.values())\n",
    "    modes = [k for k, v in count.items() if v == max_freq]\n",
    "    return modes if len(modes) > 1 else modes[0]\n",
    "\n",
    "# 4. Variance\n",
    "def variance(numbers):\n",
    "    m = mean(numbers)\n",
    "    return sum((x - m) ** 2 for x in numbers) / len(numbers)\n",
    "\n",
    "# 5. Standard Deviation\n",
    "def std_dev(numbers):\n",
    "    return math.sqrt(variance(numbers))\n",
    "\n",
    "# 6. Euclidean Distance (between numbers or lists)\n",
    "def euclidean_distance(x, y):\n",
    "    if isinstance(x, (int, float)) and isinstance(y, (int, float)):\n",
    "        return abs(x - y)\n",
    "    elif isinstance(x, list) and isinstance(y, list) and len(x) == len(y):\n",
    "        return math.sqrt(sum((a - b) ** 2 for a, b in zip(x, y)))\n",
    "    else:\n",
    "        raise ValueError(\"Inputs must be two numbers or two lists of equal length\")\n",
    "\n",
    "# 7. Sigmoid\n",
    "def sigmoid(x):\n",
    "    return 1 / (1 + math.exp(-x))\n"
   ]
  },
  {
   "cell_type": "markdown",
   "id": "4e2dbf39-c02c-4e69-8c34-f011a957fd42",
   "metadata": {},
   "source": [
    "nums = [1, 2, 3, 4, 5, 5, 5, 6]\n",
    "\n",
    "print(\"Mean:\", mean(nums))\n",
    "print(\"Median:\", median(nums))\n",
    "print(\"Mode:\", mode(nums))\n",
    "print(\"Variance:\", variance(nums))\n",
    "print(\"Standard Deviation:\", std_dev(nums))\n",
    "print(\"Euclidean Distance (numbers):\", euclidean_distance(5, 9))\n",
    "print(\"Euclidean Distance (lists):\", euclidean_distance([1, 2], [4, 6]))\n",
    "print(\"Sigmoid(2):\", sigmoid(2))\n"
   ]
  },
  {
   "cell_type": "code",
   "execution_count": 6,
   "id": "f3b9112e-f49d-41ef-b3bc-a6dc2857fb86",
   "metadata": {},
   "outputs": [
    {
     "ename": "SyntaxError",
     "evalue": "invalid syntax (967887946.py, line 2)",
     "output_type": "error",
     "traceback": [
      "\u001b[1;36m  Cell \u001b[1;32mIn[6], line 2\u001b[1;36m\u001b[0m\n\u001b[1;33m    - Mean gives the average of values.\u001b[0m\n\u001b[1;37m           ^\u001b[0m\n\u001b[1;31mSyntaxError\u001b[0m\u001b[1;31m:\u001b[0m invalid syntax\n"
     ]
    }
   ],
   "source": [
    "### What I Learned\n",
    "- Mean gives the average of values.  \n",
    "- Median is the middle value.  \n",
    "- Mode is the most frequent value.  \n",
    "- Variance and Standard Deviation show spread of data.  \n",
    "- Euclidean distance measures how far two points are.  \n",
    "- Sigmoid maps values between 0 and 1, useful in ML.  "
   ]
  }
 ],
 "metadata": {
  "kernelspec": {
   "display_name": "Python 3 (ipykernel)",
   "language": "python",
   "name": "python3"
  },
  "language_info": {
   "codemirror_mode": {
    "name": "ipython",
    "version": 3
   },
   "file_extension": ".py",
   "mimetype": "text/x-python",
   "name": "python",
   "nbconvert_exporter": "python",
   "pygments_lexer": "ipython3",
   "version": "3.13.2"
  }
 },
 "nbformat": 4,
 "nbformat_minor": 5
}
