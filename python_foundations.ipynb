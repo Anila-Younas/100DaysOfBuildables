{
 "cells": [
  {
   "cell_type": "code",
   "execution_count": 1,
   "id": "2181d025-31a3-4b7e-bf6a-2ac15de6b74d",
   "metadata": {},
   "outputs": [
    {
     "name": "stdout",
     "output_type": "stream",
     "text": [
      "10 <class 'int'>\n",
      "3.14 <class 'float'>\n",
      "Hello Python <class 'str'>\n",
      "[1, 2, 3, 4, 5] <class 'list'>\n"
     ]
    }
   ],
   "source": [
    "# Task 3 - Step 1: Variables & Data Types\n",
    "num_int = 10\n",
    "num_float = 3.14\n",
    "text = \"Hello Python\"\n",
    "my_list = [1, 2, 3, 4, 5]\n",
    "\n",
    "print(num_int, type(num_int))\n",
    "print(num_float, type(num_float))\n",
    "print(text, type(text))\n",
    "print(my_list, type(my_list))\n"
   ]
  },
  {
   "cell_type": "code",
   "execution_count": 2,
   "id": "9198fa5c-9f09-47fd-84ce-6ee152bc33c4",
   "metadata": {},
   "outputs": [
    {
     "name": "stdout",
     "output_type": "stream",
     "text": [
      "Negative\n"
     ]
    }
   ],
   "source": [
    "# Task 3 - Step 2: Conditionals\n",
    "number = -5\n",
    "\n",
    "if number > 0:\n",
    "    print(\"Positive\")\n",
    "elif number < 0:\n",
    "    print(\"Negative\")\n",
    "else:\n",
    "    print(\"Zero\")\n"
   ]
  },
  {
   "cell_type": "code",
   "execution_count": 3,
   "id": "7f1f8704-5138-404e-a353-f0e2e6c0808d",
   "metadata": {},
   "outputs": [
    {
     "name": "stdout",
     "output_type": "stream",
     "text": [
      "1\n",
      "2\n",
      "3\n",
      "4\n",
      "5\n",
      "6\n",
      "7\n",
      "8\n",
      "9\n",
      "10\n",
      "Factorial of 5 is 120\n"
     ]
    }
   ],
   "source": [
    "# Task 3 - Step 3a: Print first 10 natural numbers\n",
    "for i in range(1, 11):\n",
    "    print(i)\n",
    "\n",
    "# Task 3 - Step 3b: Factorial of a number\n",
    "n = 5\n",
    "factorial = 1\n",
    "for i in range(1, n+1):\n",
    "    factorial *= i\n",
    "print(\"Factorial of\", n, \"is\", factorial)\n"
   ]
  },
  {
   "cell_type": "code",
   "execution_count": 4,
   "id": "28825b64-14af-4eff-a815-999a1547198d",
   "metadata": {},
   "outputs": [
    {
     "name": "stdout",
     "output_type": "stream",
     "text": [
      "Hello, Nimra!\n",
      "True\n",
      "False\n"
     ]
    }
   ],
   "source": [
    "# Task 3 - Step 4: Functions\n",
    "def greet(name):\n",
    "    print(\"Hello,\", name + \"!\")\n",
    "\n",
    "def is_even(num):\n",
    "    return num % 2 == 0\n",
    "\n",
    "greet(\"Nimra\")\n",
    "print(is_even(4))  # True\n",
    "print(is_even(7))  # False\n"
   ]
  },
  {
   "cell_type": "code",
   "execution_count": 5,
   "id": "343d3537-1221-48c0-843f-531f882db3f8",
   "metadata": {},
   "outputs": [
    {
     "name": "stdout",
     "output_type": "stream",
     "text": [
      "Max: 19\n",
      "Min: 3\n",
      "Sum: 49\n",
      "Average: 9.8\n",
      "Sorted: [3, 7, 8, 12, 19]\n",
      "Reversed: [19, 12, 8, 7, 3]\n"
     ]
    }
   ],
   "source": [
    "# Task 3 - Step 5: List Operations\n",
    "numbers = [12, 7, 19, 3, 8]\n",
    "\n",
    "print(\"Max:\", max(numbers))\n",
    "print(\"Min:\", min(numbers))\n",
    "print(\"Sum:\", sum(numbers))\n",
    "print(\"Average:\", sum(numbers)/len(numbers))\n",
    "\n",
    "numbers.sort()\n",
    "print(\"Sorted:\", numbers)\n",
    "\n",
    "numbers.reverse()\n",
    "print(\"Reversed:\", numbers)\n"
   ]
  },
  {
   "cell_type": "code",
   "execution_count": 6,
   "id": "971ce076-1c27-4b05-b105-07ea5956e7e7",
   "metadata": {},
   "outputs": [
    {
     "name": "stdout",
     "output_type": "stream",
     "text": [
      "Hello Nimra, you are 20 years old.\n"
     ]
    }
   ],
   "source": [
    "# Task 3 - Step 6: Input/Output\n",
    "# (If running in Jupyter, uncomment input lines and test)\n",
    "# name = input(\"Enter your name: \")\n",
    "# age = input(\"Enter your age: \")\n",
    "# print(f\"Hello {name}, you are {age} years old.\")\n",
    "\n",
    "# For quick demo without typing input:\n",
    "name = \"Nimra\"\n",
    "age = 20\n",
    "print(f\"Hello {name}, you are {age} years old.\")\n"
   ]
  },
  {
   "cell_type": "code",
   "execution_count": null,
   "id": "8d211e5e-b58e-4a3a-ba39-33a423fde5ab",
   "metadata": {},
   "outputs": [],
   "source": []
  }
 ],
 "metadata": {
  "kernelspec": {
   "display_name": "Python 3 (ipykernel)",
   "language": "python",
   "name": "python3"
  },
  "language_info": {
   "codemirror_mode": {
    "name": "ipython",
    "version": 3
   },
   "file_extension": ".py",
   "mimetype": "text/x-python",
   "name": "python",
   "nbconvert_exporter": "python",
   "pygments_lexer": "ipython3",
   "version": "3.13.2"
  }
 },
 "nbformat": 4,
 "nbformat_minor": 5
}
